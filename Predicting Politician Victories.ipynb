{
 "cells": [
  {
   "cell_type": "markdown",
   "id": "ece3aeaa",
   "metadata": {},
   "source": [
    "## Importing Libraries & Setting up Spark"
   ]
  },
  {
   "cell_type": "code",
   "execution_count": 1,
   "id": "ab199368",
   "metadata": {},
   "outputs": [],
   "source": [
    "import pandas as pd\n",
    "import matplotlib.pyplot as plt\n",
    "import seaborn as sns\n",
    "import numpy as np\n",
    "\n",
    "import findspark\n",
    "findspark.init()\n",
    "\n",
    "import pyspark\n",
    "from pyspark import SparkContext, SparkConf\n",
    "from pyspark.sql import SparkSession\n",
    "from pyspark.sql import Row\n",
    "\n",
    "from pyspark.ml.feature import StringIndexer\n",
    "from pyspark.ml.feature import VectorAssembler\n",
    "\n",
    "from pyspark.ml.evaluation import MulticlassClassificationEvaluator\n",
    "\n",
    "from pyspark.ml.classification import LinearSVC\n",
    "from pyspark.ml.classification import RandomForestClassifier"
   ]
  },
  {
   "cell_type": "code",
   "execution_count": 2,
   "id": "8694bdf2",
   "metadata": {},
   "outputs": [],
   "source": [
    "#Function to Appy String Indexer for categorical values: \n",
    "def Indexe(lsds, col_name):\n",
    "    opcol = col_name.upper()\n",
    "    lsds = StringIndexer(inputCol= col_name, outputCol=opcol, handleInvalid='keep').fit(lsds).transform(lsds)\n",
    "    return lsds\n",
    "\n",
    "#Function to get input values and store it into a Spark Dataframe\n",
    "def GetVal(header):\n",
    "    \n",
    "    print(\"Enter Values For User Test Data:\")\n",
    "    cand = input(\"Enter Candidate Name :\")\n",
    "    party = input(\"Enter Party:\")\n",
    "    cc = input(\"Enter criminal cases :\")\n",
    "    edu = input(\"Enter education :\")\n",
    "    age = input(\"Enter age :\")\n",
    "    asset = input(\"Enter asset:\")\n",
    "    cstcy = input(\"Enter constituency:\")\n",
    "    liab = input(\"Enter liabilities :\")\n",
    "    gender = input(\"Enter Gender :\")\n",
    "    \n",
    "    test = {header[0]: cand, header[1]:party , header[2]:cc,header[3]:edu,header[4]:age,header[5]:asset,header[6]:cstcy,header[7]:liab,header[8]:gender}\n",
    "    print(test)\n",
    "    dt = pd.DataFrame(test,index = [0])\n",
    "    dt.reset_index(inplace=True)\n",
    "    sparkdt = spark.createDataFrame(dt)\n",
    "    return sparkdt\n",
    "\n"
   ]
  },
  {
   "cell_type": "markdown",
   "id": "4ac84faa",
   "metadata": {},
   "source": [
    "## Fetching the Datasets"
   ]
  },
  {
   "cell_type": "code",
   "execution_count": 3,
   "id": "1ca231fe",
   "metadata": {
    "scrolled": true
   },
   "outputs": [
    {
     "name": "stdout",
     "output_type": "stream",
     "text": [
      "22/11/10 14:25:03 WARN Utils: Your hostname, theeraj-VirtualBox resolves to a loopback address: 127.0.1.1; using 10.0.2.15 instead (on interface enp0s3)\n",
      "22/11/10 14:25:03 WARN Utils: Set SPARK_LOCAL_IP if you need to bind to another address\n"
     ]
    },
    {
     "name": "stderr",
     "output_type": "stream",
     "text": [
      "Setting default log level to \"WARN\".\n",
      "To adjust logging level use sc.setLogLevel(newLevel). For SparkR, use setLogLevel(newLevel).\n"
     ]
    },
    {
     "name": "stdout",
     "output_type": "stream",
     "text": [
      "22/11/10 14:25:04 WARN NativeCodeLoader: Unable to load native-hadoop library for your platform... using builtin-java classes where applicable\n"
     ]
    }
   ],
   "source": [
    "spark = SparkSession.builder.master(\"local\").appName(\"Politicians\").enableHiveSupport().getOrCreate()"
   ]
  },
  {
   "cell_type": "code",
   "execution_count": 4,
   "id": "20851957",
   "metadata": {},
   "outputs": [
    {
     "name": "stdout",
     "output_type": "stream",
     "text": [
      "22/11/10 14:25:11 WARN HiveConf: HiveConf of name hive.stats.jdbc.timeout does not exist\n",
      "22/11/10 14:25:11 WARN HiveConf: HiveConf of name hive.stats.retries.wait does not exist\n",
      "22/11/10 14:25:13 WARN ObjectStore: Failed to get database global_temp, returning NoSuchObjectException\n",
      "+---------+---------+-----------+\n",
      "|namespace|tableName|isTemporary|\n",
      "+---------+---------+-----------+\n",
      "|  default|   ls2004|      false|\n",
      "|  default|   ls2009|      false|\n",
      "|  default|   ls2014|      false|\n",
      "|  default|   ls2019|      false|\n",
      "+---------+---------+-----------+\n",
      "\n"
     ]
    }
   ],
   "source": [
    "spark.sql(\"show tables\").show()"
   ]
  },
  {
   "cell_type": "code",
   "execution_count": 5,
   "id": "ac90e9a1",
   "metadata": {},
   "outputs": [
    {
     "name": "stdout",
     "output_type": "stream",
     "text": [
      "22/11/10 14:25:16 WARN SessionState: METASTORE_FILTER_HOOK will be ignored, since hive.security.authorization.manager is set to instance of HiveAuthorizerFactory.\n",
      "+-----------------+-----+--------------+-------------+----+------------+--------------------+-----------+------+------+\n",
      "|        candidate|party|criminal_cases|    education| age|total_assets|        constituency|liabilities|winner|gender|\n",
      "+-----------------+-----+--------------+-------------+----+------------+--------------------+-----------+------+------+\n",
      "|        Candidate|Party|          null|    Education|null|        null|        Constituency|       null|  null|Gender|\n",
      "|Manoranjan Bhakta|  INC|             0|Post Graduate|  65|     5926740|Andaman & Nicobar...|     272061|     1|     M|\n",
      "|       A K Biswas|  BSP|             0|     Graduate|  61|     7876500|Andaman & Nicobar...|      65000|     0|     M|\n",
      "| Asit Baran Dutta|  IND|             0|     Graduate|  50|     3070000|Andaman & Nicobar...|          0|     0|     M|\n",
      "|  Bishnu Pada Ray|  BJP|             0|     Graduate|  54|     1250619|Andaman & Nicobar...|     128710|     0|     M|\n",
      "+-----------------+-----+--------------+-------------+----+------------+--------------------+-----------+------+------+\n",
      "only showing top 5 rows\n",
      "\n"
     ]
    }
   ],
   "source": [
    "ls2004 = spark.sql(\"Select * from ls2004\")\n",
    "ls2009 = spark.sql(\"Select * from ls2009\")\n",
    "ls2014 = spark.sql(\"Select * from ls2014\")\n",
    "ls2019 = spark.sql(\"Select * from ls2019\")\n",
    "\n",
    "ls2004.show(5)"
   ]
  },
  {
   "cell_type": "markdown",
   "id": "4ba244ba",
   "metadata": {},
   "source": [
    "# Preprocessing the Dataset"
   ]
  },
  {
   "cell_type": "markdown",
   "id": "1c402715",
   "metadata": {},
   "source": [
    "Removing null values"
   ]
  },
  {
   "cell_type": "code",
   "execution_count": 6,
   "id": "9c3be9bb",
   "metadata": {},
   "outputs": [],
   "source": [
    "ls2004 = ls2004.na.drop()\n",
    "ls2009 = ls2009.na.drop()\n",
    "ls2014 = ls2014.na.drop()\n",
    "ls2019 = ls2019.na.drop()"
   ]
  },
  {
   "cell_type": "markdown",
   "id": "12c04627",
   "metadata": {},
   "source": [
    "Viewing changes"
   ]
  },
  {
   "cell_type": "code",
   "execution_count": 7,
   "id": "5e61cd11",
   "metadata": {},
   "outputs": [
    {
     "name": "stdout",
     "output_type": "stream",
     "text": [
      "+-----------------+-----+--------------+-------------+---+------------+--------------------+-----------+------+------+\n",
      "|        candidate|party|criminal_cases|    education|age|total_assets|        constituency|liabilities|winner|gender|\n",
      "+-----------------+-----+--------------+-------------+---+------------+--------------------+-----------+------+------+\n",
      "|Manoranjan Bhakta|  INC|             0|Post Graduate| 65|     5926740|Andaman & Nicobar...|     272061|     1|     M|\n",
      "|       A K Biswas|  BSP|             0|     Graduate| 61|     7876500|Andaman & Nicobar...|      65000|     0|     M|\n",
      "| Asit Baran Dutta|  IND|             0|     Graduate| 50|     3070000|Andaman & Nicobar...|          0|     0|     M|\n",
      "|  Bishnu Pada Ray|  BJP|             0|     Graduate| 54|     1250619|Andaman & Nicobar...|     128710|     0|     M|\n",
      "|    Deepak Biswas|  IND|             0|    Not Given| 28|        3000|Andaman & Nicobar...|          0|     0|     M|\n",
      "+-----------------+-----+--------------+-------------+---+------------+--------------------+-----------+------+------+\n",
      "only showing top 5 rows\n",
      "\n",
      "+--------------------+-----+--------------+-------------+---+------------+--------------------+-----------+------+------+\n",
      "|           candidate|party|criminal_cases|    education|age|total_assets|        constituency|liabilities|winner|gender|\n",
      "+--------------------+-----+--------------+-------------+---+------------+--------------------+-----------+------+------+\n",
      "|Shri Bishnu Pada Ray|  BJP|             1|     Graduate| 59|     1241034|Andaman & Nicobar...|          0|     1|     M|\n",
      "| Shri P. R. Ganeshan|  RJD|             0|    Not Given| 71|      329563|Andaman & Nicobar...|          0|     0|     M|\n",
      "|Shri Pradeep Kuma...|  JDP|             0|       Others| 37|      410000|Andaman & Nicobar...|          0|     0|     M|\n",
      "|         Shri T. Ali|  IND|             0|    12th Pass| 37|      445957|Andaman & Nicobar...|     296000|     0|     M|\n",
      "|Shri Tapan Kumar ...|  CPM|             0|Post Graduate| 52|     3986000|Andaman & Nicobar...|          0|     0|     M|\n",
      "+--------------------+-----+--------------+-------------+---+------------+--------------------+-----------+------+------+\n",
      "only showing top 5 rows\n",
      "\n"
     ]
    }
   ],
   "source": [
    "ls2004.show(5)\n",
    "ls2009.show(5)"
   ]
  },
  {
   "cell_type": "code",
   "execution_count": 8,
   "id": "561ff5fb",
   "metadata": {},
   "outputs": [
    {
     "name": "stdout",
     "output_type": "stream",
     "text": [
      "22/11/10 14:25:18 WARN LazyStruct: Extra bytes detected at the end of the row! Ignoring similar problems.\n"
     ]
    },
    {
     "data": {
      "text/html": [
       "<div>\n",
       "<style scoped>\n",
       "    .dataframe tbody tr th:only-of-type {\n",
       "        vertical-align: middle;\n",
       "    }\n",
       "\n",
       "    .dataframe tbody tr th {\n",
       "        vertical-align: top;\n",
       "    }\n",
       "\n",
       "    .dataframe thead th {\n",
       "        text-align: right;\n",
       "    }\n",
       "</style>\n",
       "<table border=\"1\" class=\"dataframe\">\n",
       "  <thead>\n",
       "    <tr style=\"text-align: right;\">\n",
       "      <th></th>\n",
       "      <th>candidate</th>\n",
       "      <th>party</th>\n",
       "      <th>criminal_cases</th>\n",
       "      <th>education</th>\n",
       "      <th>age</th>\n",
       "      <th>total_assets</th>\n",
       "      <th>constituency</th>\n",
       "      <th>liabilities</th>\n",
       "      <th>winner</th>\n",
       "      <th>gender</th>\n",
       "    </tr>\n",
       "  </thead>\n",
       "  <tbody>\n",
       "    <tr>\n",
       "      <th>0</th>\n",
       "      <td>Manoranjan Bhakta</td>\n",
       "      <td>INC</td>\n",
       "      <td>0</td>\n",
       "      <td>Post Graduate</td>\n",
       "      <td>65</td>\n",
       "      <td>5926740</td>\n",
       "      <td>Andaman &amp; Nicobar Islands</td>\n",
       "      <td>272061</td>\n",
       "      <td>1</td>\n",
       "      <td>M</td>\n",
       "    </tr>\n",
       "    <tr>\n",
       "      <th>1</th>\n",
       "      <td>A K Biswas</td>\n",
       "      <td>BSP</td>\n",
       "      <td>0</td>\n",
       "      <td>Graduate</td>\n",
       "      <td>61</td>\n",
       "      <td>7876500</td>\n",
       "      <td>Andaman &amp; Nicobar Islands</td>\n",
       "      <td>65000</td>\n",
       "      <td>0</td>\n",
       "      <td>M</td>\n",
       "    </tr>\n",
       "    <tr>\n",
       "      <th>2</th>\n",
       "      <td>Asit Baran Dutta</td>\n",
       "      <td>IND</td>\n",
       "      <td>0</td>\n",
       "      <td>Graduate</td>\n",
       "      <td>50</td>\n",
       "      <td>3070000</td>\n",
       "      <td>Andaman &amp; Nicobar Islands</td>\n",
       "      <td>0</td>\n",
       "      <td>0</td>\n",
       "      <td>M</td>\n",
       "    </tr>\n",
       "    <tr>\n",
       "      <th>3</th>\n",
       "      <td>Bishnu Pada Ray</td>\n",
       "      <td>BJP</td>\n",
       "      <td>0</td>\n",
       "      <td>Graduate</td>\n",
       "      <td>54</td>\n",
       "      <td>1250619</td>\n",
       "      <td>Andaman &amp; Nicobar Islands</td>\n",
       "      <td>128710</td>\n",
       "      <td>0</td>\n",
       "      <td>M</td>\n",
       "    </tr>\n",
       "    <tr>\n",
       "      <th>4</th>\n",
       "      <td>Deepak Biswas</td>\n",
       "      <td>IND</td>\n",
       "      <td>0</td>\n",
       "      <td>Not Given</td>\n",
       "      <td>28</td>\n",
       "      <td>3000</td>\n",
       "      <td>Andaman &amp; Nicobar Islands</td>\n",
       "      <td>0</td>\n",
       "      <td>0</td>\n",
       "      <td>M</td>\n",
       "    </tr>\n",
       "    <tr>\n",
       "      <th>...</th>\n",
       "      <td>...</td>\n",
       "      <td>...</td>\n",
       "      <td>...</td>\n",
       "      <td>...</td>\n",
       "      <td>...</td>\n",
       "      <td>...</td>\n",
       "      <td>...</td>\n",
       "      <td>...</td>\n",
       "      <td>...</td>\n",
       "      <td>...</td>\n",
       "    </tr>\n",
       "    <tr>\n",
       "      <th>3349</th>\n",
       "      <td>Snehanshu Maity</td>\n",
       "      <td>IND</td>\n",
       "      <td>0</td>\n",
       "      <td>Not Given</td>\n",
       "      <td>35</td>\n",
       "      <td>12463</td>\n",
       "      <td>Uluberia</td>\n",
       "      <td>0</td>\n",
       "      <td>0</td>\n",
       "      <td>M</td>\n",
       "    </tr>\n",
       "    <tr>\n",
       "      <th>3350</th>\n",
       "      <td>Susmita Bauri</td>\n",
       "      <td>CPM</td>\n",
       "      <td>0</td>\n",
       "      <td>Graduate Professional</td>\n",
       "      <td>29</td>\n",
       "      <td>33000</td>\n",
       "      <td>Vishnupur</td>\n",
       "      <td>10000</td>\n",
       "      <td>1</td>\n",
       "      <td>F</td>\n",
       "    </tr>\n",
       "    <tr>\n",
       "      <th>3351</th>\n",
       "      <td>Achintya Majhi</td>\n",
       "      <td>INC</td>\n",
       "      <td>0</td>\n",
       "      <td>Graduate</td>\n",
       "      <td>38</td>\n",
       "      <td>67264</td>\n",
       "      <td>Vishnupur</td>\n",
       "      <td>50050</td>\n",
       "      <td>0</td>\n",
       "      <td>M</td>\n",
       "    </tr>\n",
       "    <tr>\n",
       "      <th>3352</th>\n",
       "      <td>Ajoy Bauri</td>\n",
       "      <td>BSP</td>\n",
       "      <td>0</td>\n",
       "      <td>Not Given</td>\n",
       "      <td>40</td>\n",
       "      <td>35000</td>\n",
       "      <td>Vishnupur</td>\n",
       "      <td>0</td>\n",
       "      <td>0</td>\n",
       "      <td>M</td>\n",
       "    </tr>\n",
       "    <tr>\n",
       "      <th>3353</th>\n",
       "      <td>Janardan Saha</td>\n",
       "      <td>AITC</td>\n",
       "      <td>0</td>\n",
       "      <td>Post Graduate</td>\n",
       "      <td>37</td>\n",
       "      <td>233612</td>\n",
       "      <td>Vishnupur</td>\n",
       "      <td>14000</td>\n",
       "      <td>0</td>\n",
       "      <td>M</td>\n",
       "    </tr>\n",
       "  </tbody>\n",
       "</table>\n",
       "<p>3354 rows × 10 columns</p>\n",
       "</div>"
      ],
      "text/plain": [
       "              candidate party  criminal_cases              education  age  \\\n",
       "0     Manoranjan Bhakta   INC               0          Post Graduate   65   \n",
       "1            A K Biswas   BSP               0               Graduate   61   \n",
       "2      Asit Baran Dutta   IND               0               Graduate   50   \n",
       "3       Bishnu Pada Ray   BJP               0               Graduate   54   \n",
       "4         Deepak Biswas   IND               0              Not Given   28   \n",
       "...                 ...   ...             ...                    ...  ...   \n",
       "3349    Snehanshu Maity   IND               0              Not Given   35   \n",
       "3350      Susmita Bauri   CPM               0  Graduate Professional   29   \n",
       "3351     Achintya Majhi   INC               0               Graduate   38   \n",
       "3352         Ajoy Bauri   BSP               0              Not Given   40   \n",
       "3353      Janardan Saha  AITC               0          Post Graduate   37   \n",
       "\n",
       "      total_assets               constituency  liabilities  winner gender  \n",
       "0          5926740  Andaman & Nicobar Islands       272061       1      M  \n",
       "1          7876500  Andaman & Nicobar Islands        65000       0      M  \n",
       "2          3070000  Andaman & Nicobar Islands            0       0      M  \n",
       "3          1250619  Andaman & Nicobar Islands       128710       0      M  \n",
       "4             3000  Andaman & Nicobar Islands            0       0      M  \n",
       "...            ...                        ...          ...     ...    ...  \n",
       "3349         12463                   Uluberia            0       0      M  \n",
       "3350         33000                  Vishnupur        10000       1      F  \n",
       "3351         67264                  Vishnupur        50050       0      M  \n",
       "3352         35000                  Vishnupur            0       0      M  \n",
       "3353        233612                  Vishnupur        14000       0      M  \n",
       "\n",
       "[3354 rows x 10 columns]"
      ]
     },
     "execution_count": 8,
     "metadata": {},
     "output_type": "execute_result"
    }
   ],
   "source": [
    "ls2004.toPandas()"
   ]
  },
  {
   "cell_type": "markdown",
   "id": "f814ba71",
   "metadata": {},
   "source": [
    "# Feature Selection :"
   ]
  },
  {
   "cell_type": "code",
   "execution_count": 9,
   "id": "33817bb2",
   "metadata": {},
   "outputs": [
    {
     "name": "stdout",
     "output_type": "stream",
     "text": [
      "22/11/10 14:25:18 WARN LazyStruct: Extra bytes detected at the end of the row! Ignoring similar problems.\n"
     ]
    },
    {
     "data": {
      "image/png": "[encoded data removed]",
      "text/plain": [
       "<Figure size 800x800 with 25 Axes>"
      ]
     },
     "metadata": {},
     "output_type": "display_data"
    }
   ],
   "source": [
    "#Choose the features that affect the victory of candidate the most : pdls2004 = ls2004.toPandas( X = pdls2004.copy() Y = pdls2004.pop(\"winner\")\n",
    "numeric_features = [t[0] for t in ls2004.dtypes if t[1] == 'int']\n",
    "\n",
    "numeric_data = ls2004.select(numeric_features).toPandas()\n",
    "axs = pd.plotting.scatter_matrix(numeric_data, figsize=(8, 8));\n",
    "n = len(numeric_data.columns)\n",
    "for i in range(n):\n",
    "    v = axs[i, 0]\n",
    "    v.yaxis.label.set_rotation(0)\n",
    "    v.yaxis.label.set_ha('right')\n",
    "    v.set_yticks(())\n",
    "    h = axs[n-1, i]\n",
    "    h.xaxis.label.set_rotation(90)\n",
    "    h.set_xticks(())"
   ]
  },
  {
   "cell_type": "markdown",
   "id": "8094dd89",
   "metadata": {},
   "source": [
    "# Feature Engineering :"
   ]
  },
  {
   "cell_type": "code",
   "execution_count": 10,
   "id": "5de4a7fd",
   "metadata": {},
   "outputs": [
    {
     "name": "stdout",
     "output_type": "stream",
     "text": [
      "+--------------------+----------+--------------+--------------------+---+------------+--------------------+-----------+------+------+\n",
      "|           candidate|     party|criminal_cases|           education|age|total_assets|        constituency|liabilities|winner|gender|\n",
      "+--------------------+----------+--------------+--------------------+---+------------+--------------------+-----------+------+------+\n",
      "|   Manoranjan Bhakta|       INC|             0|       Post Graduate| 65|     5926740|Andaman & Nicobar...|     272061|     1|     M|\n",
      "|          A K Biswas|       BSP|             0|            Graduate| 61|     7876500|Andaman & Nicobar...|      65000|     0|     M|\n",
      "|    Asit Baran Dutta|       IND|             0|            Graduate| 50|     3070000|Andaman & Nicobar...|          0|     0|     M|\n",
      "|     Bishnu Pada Ray|       BJP|             0|            Graduate| 54|     1250619|Andaman & Nicobar...|     128710|     0|     M|\n",
      "|       Deepak Biswas|       IND|             0|           Not Given| 28|        3000|Andaman & Nicobar...|          0|     0|     M|\n",
      "|        Dr Shanmugam|     LJNSP|             0|           Doctorate| 66|     6166416|Andaman & Nicobar...|      67070|     0|     M|\n",
      "|Gour Chandra Maju...|       IND|             0|            Graduate| 37|       36200|Andaman & Nicobar...|          0|     0|     M|\n",
      "|         K Kalimuthu|       IND|             1|            8th Pass| 51|      472440|Andaman & Nicobar...|      73878|     0|     M|\n",
      "|           K Perumal|       SWD|             0|            Literate| 65|     7752141|Andaman & Nicobar...|          0|     0|     M|\n",
      "|          N K P Nair|CPI(ML)(L)|             0|            Literate| 49|      772588|Andaman & Nicobar...|     188000|     0|     M|\n",
      "|    R S Uma Bharathy|       NCP|             1|           Not Given| 40|       59977|Andaman & Nicobar...|      35000|     0|     M|\n",
      "|  Tapan Kumar Bepari|       CPM|             0|       Post Graduate| 46|     2435276|Andaman & Nicobar...|          0|     0|     M|\n",
      "|Madhusudhan Reddy...|       TRS|             0|Graduate Professi...| 59|     7550000|            Adilabad|     120000|     1|     M|\n",
      "|Dr S Venugopala C...|       TDP|             0|              Others| 42|    11580000|            Adilabad|    1247053|     0|     M|\n",
      "|    D. Muralikrishna|       BSP|             0|              Others| 59|     6763811|          Amalapuram|     748000|     0|     M|\n",
      "|Dunna Janardhana Rao|       TDP|             0|            Graduate| 51|      988000|          Amalapuram|      60000|     0|     M|\n",
      "|Muneeswara Rao Bh...|       IND|             0|              Others| 59|      236200|          Amalapuram|      35000|     0|     M|\n",
      "|      Yalangi Ramesh|       IND|             0|           Not Given| 40|      340000|          Amalapuram|          0|     0|     M|\n",
      "|Chalapathirao Pap...|       TDP|             0|            Graduate| 58|     5396505|          Anakapalli|     246000|     1|     M|\n",
      "|Anantha Venkata R...|       INC|             0|       Post Graduate| 47|     3890000|           Anantapur|     437636|     1|     M|\n",
      "+--------------------+----------+--------------+--------------------+---+------------+--------------------+-----------+------+------+\n",
      "only showing top 20 rows\n",
      "\n"
     ]
    }
   ],
   "source": [
    "#Combining the datasets to form 1 big dataset ->\n",
    "lsdata = ls2004.unionByName(ls2009)\n",
    "lsdata = lsdata.unionByName(ls2014)\n",
    "lsdata = lsdata.unionByName(ls2019)\n",
    "lsdata.show(20)"
   ]
  },
  {
   "cell_type": "code",
   "execution_count": 11,
   "id": "e6651c47",
   "metadata": {},
   "outputs": [
    {
     "name": "stdout",
     "output_type": "stream",
     "text": [
      "22/11/10 14:25:21 WARN LazyStruct: Extra bytes detected at the end of the row! Ignoring similar problems.\n"
     ]
    },
    {
     "name": "stderr",
     "output_type": "stream",
     "text": [
      "\r",
      "[Stage 7:>                                                          (0 + 1) / 4]\r",
      "\r",
      "[Stage 7:==============>                                            (1 + 1) / 4]\r"
     ]
    },
    {
     "name": "stdout",
     "output_type": "stream",
     "text": [
      "22/11/10 14:25:22 WARN LazyStruct: Extra bytes detected at the end of the row! Ignoring similar problems.\n",
      "22/11/10 14:25:22 WARN LazyStruct: Extra bytes detected at the end of the row! Ignoring similar problems.\n",
      "22/11/10 14:25:22 WARN LazyStruct: Extra bytes detected at the end of the row! Ignoring similar problems.\n"
     ]
    },
    {
     "name": "stderr",
     "output_type": "stream",
     "text": [
      "                                                                                \r"
     ]
    },
    {
     "name": "stdout",
     "output_type": "stream",
     "text": [
      "22/11/10 14:25:23 WARN LazyStruct: Extra bytes detected at the end of the row! Ignoring similar problems.\n",
      "22/11/10 14:25:23 WARN LazyStruct: Extra bytes detected at the end of the row! Ignoring similar problems.\n",
      "22/11/10 14:25:23 WARN LazyStruct: Extra bytes detected at the end of the row! Ignoring similar problems.\n",
      "22/11/10 14:25:23 WARN LazyStruct: Extra bytes detected at the end of the row! Ignoring similar problems.\n",
      "22/11/10 14:25:24 WARN LazyStruct: Extra bytes detected at the end of the row! Ignoring similar problems.\n",
      "22/11/10 14:25:24 WARN LazyStruct: Extra bytes detected at the end of the row! Ignoring similar problems.\n",
      "22/11/10 14:25:24 WARN LazyStruct: Extra bytes detected at the end of the row! Ignoring similar problems.\n",
      "22/11/10 14:25:24 WARN LazyStruct: Extra bytes detected at the end of the row! Ignoring similar problems.\n"
     ]
    }
   ],
   "source": [
    "#Using String Indexer to Index Features ->\n",
    "lsdata_copy = lsdata\n",
    "\n",
    "lsdata_copy = Indexe(lsdata_copy,'gender')\n",
    "lsdata_copy = Indexe(lsdata_copy,'education')\n",
    "lsdata_copy = Indexe(lsdata_copy,'party')"
   ]
  },
  {
   "cell_type": "code",
   "execution_count": 12,
   "id": "838d51b4",
   "metadata": {},
   "outputs": [
    {
     "name": "stdout",
     "output_type": "stream",
     "text": [
      "+-----------------+-----+--------------+---------+---+------------+--------------------+-----------+------+------+--------------------+\n",
      "|        candidate|PARTY|criminal_cases|EDUCATION|age|total_assets|        constituency|liabilities|winner|GENDER|            features|\n",
      "+-----------------+-----+--------------+---------+---+------------+--------------------+-----------+------+------+--------------------+\n",
      "|Manoranjan Bhakta|  1.0|             0|      1.0| 65|     5926740|Andaman & Nicobar...|     272061|     1|   0.0|[0.0,1.0,65.0,272...|\n",
      "|       A K Biswas|  2.0|             0|      0.0| 61|     7876500|Andaman & Nicobar...|      65000|     0|   0.0|(5,[2,3],[61.0,65...|\n",
      "| Asit Baran Dutta|  0.0|             0|      0.0| 50|     3070000|Andaman & Nicobar...|          0|     0|   0.0|      (5,[2],[50.0])|\n",
      "|  Bishnu Pada Ray|  3.0|             0|      0.0| 54|     1250619|Andaman & Nicobar...|     128710|     0|   0.0|(5,[2,3],[54.0,12...|\n",
      "|    Deepak Biswas|  0.0|             0|      8.0| 28|        3000|Andaman & Nicobar...|          0|     0|   0.0|(5,[1,2],[8.0,28.0])|\n",
      "+-----------------+-----+--------------+---------+---+------------+--------------------+-----------+------+------+--------------------+\n",
      "only showing top 5 rows\n",
      "\n"
     ]
    }
   ],
   "source": [
    "#Assembling the chosen features into a vector assembler ->\n",
    "required_features = ['criminal_cases','EDUCATION','age','liabilities','GENDER']\n",
    "assembler = VectorAssembler(inputCols=required_features, outputCol='features')\n",
    "transformed_data = assembler.transform(lsdata_copy)\n",
    "\n",
    "transformed_data.show(5)"
   ]
  },
  {
   "cell_type": "markdown",
   "id": "fd925add",
   "metadata": {},
   "source": [
    "# Implementing ML models"
   ]
  },
  {
   "cell_type": "code",
   "execution_count": 13,
   "id": "47f961e7",
   "metadata": {},
   "outputs": [],
   "source": [
    "#Models to implement : Logistic Regression, Random Forest Classifier & Gradient Boosted Tree "
   ]
  },
  {
   "cell_type": "markdown",
   "id": "2fc3e480",
   "metadata": {},
   "source": [
    "Logistic Regression :"
   ]
  },
  {
   "cell_type": "code",
   "execution_count": 14,
   "id": "63a3ecec",
   "metadata": {},
   "outputs": [
    {
     "name": "stdout",
     "output_type": "stream",
     "text": [
      "22/11/10 14:25:26 WARN LazyStruct: Extra bytes detected at the end of the row! Ignoring similar problems.\n"
     ]
    },
    {
     "name": "stderr",
     "output_type": "stream",
     "text": [
      "\r",
      "[Stage 17:==============>                                           (1 + 1) / 4]\r",
      "\r",
      "[Stage 17:=============================>                            (2 + 1) / 4]\r"
     ]
    },
    {
     "name": "stdout",
     "output_type": "stream",
     "text": [
      "22/11/10 14:25:26 WARN LazyStruct: Extra bytes detected at the end of the row! Ignoring similar problems.\n",
      "22/11/10 14:25:26 WARN LazyStruct: Extra bytes detected at the end of the row! Ignoring similar problems.\n",
      "22/11/10 14:25:27 WARN LazyStruct: Extra bytes detected at the end of the row! Ignoring similar problems.\n"
     ]
    },
    {
     "name": "stderr",
     "output_type": "stream",
     "text": [
      "\r",
      "[Stage 17:===========================================>              (3 + 1) / 4]\r",
      "\r",
      "                                                                                \r"
     ]
    },
    {
     "name": "stdout",
     "output_type": "stream",
     "text": [
      "22/11/10 14:25:28 WARN LazyStruct: Extra bytes detected at the end of the row! Ignoring similar problems.\n",
      "22/11/10 14:25:28 WARN LazyStruct: Extra bytes detected at the end of the row! Ignoring similar problems.\n",
      "22/11/10 14:25:28 WARN LazyStruct: Extra bytes detected at the end of the row! Ignoring similar problems.\n"
     ]
    },
    {
     "name": "stderr",
     "output_type": "stream",
     "text": [
      "\r",
      "[Stage 18:=============================>                            (2 + 1) / 4]\r",
      "\r",
      "[Stage 18:===========================================>              (3 + 1) / 4]\r"
     ]
    },
    {
     "name": "stdout",
     "output_type": "stream",
     "text": [
      "22/11/10 14:25:28 WARN LazyStruct: Extra bytes detected at the end of the row! Ignoring similar problems.\n"
     ]
    },
    {
     "name": "stderr",
     "output_type": "stream",
     "text": [
      "\r",
      "                                                                                \r"
     ]
    }
   ],
   "source": [
    "(train,test) = transformed_data.randomSplit([0.8,0.2])\n",
    "\n",
    "from pyspark.ml.classification import LogisticRegression\n",
    "lr = LogisticRegression(featuresCol = 'features', labelCol = 'winner', maxIter=10)\n",
    "lrModel = lr.fit(train)"
   ]
  },
  {
   "cell_type": "code",
   "execution_count": 15,
   "id": "5b5b40a1",
   "metadata": {},
   "outputs": [],
   "source": [
    "lrpredictions = lrModel.transform(test)"
   ]
  },
  {
   "cell_type": "markdown",
   "id": "3ee1efbe",
   "metadata": {},
   "source": [
    "Gradient Boosted Tree:"
   ]
  },
  {
   "cell_type": "code",
   "execution_count": 16,
   "id": "b13b204e",
   "metadata": {},
   "outputs": [],
   "source": [
    "(train1,test1) = transformed_data.randomSplit([0.8,0.2])"
   ]
  },
  {
   "cell_type": "code",
   "execution_count": 17,
   "id": "77fdd5e8",
   "metadata": {},
   "outputs": [
    {
     "name": "stdout",
     "output_type": "stream",
     "text": [
      "22/11/10 14:25:31 WARN LazyStruct: Extra bytes detected at the end of the row! Ignoring similar problems.\n",
      "22/11/10 14:25:32 WARN LazyStruct: Extra bytes detected at the end of the row! Ignoring similar problems.\n",
      "22/11/10 14:25:32 WARN LazyStruct: Extra bytes detected at the end of the row! Ignoring similar problems.\n",
      "22/11/10 14:25:32 WARN LazyStruct: Extra bytes detected at the end of the row! Ignoring similar problems.\n",
      "22/11/10 14:25:32 WARN LazyStruct: Extra bytes detected at the end of the row! Ignoring similar problems.\n"
     ]
    },
    {
     "name": "stderr",
     "output_type": "stream",
     "text": [
      "\r",
      "[Stage 30:===========================================>              (3 + 1) / 4]\r",
      "\r",
      "                                                                                \r"
     ]
    },
    {
     "name": "stdout",
     "output_type": "stream",
     "text": [
      "22/11/10 14:25:32 WARN LazyStruct: Extra bytes detected at the end of the row! Ignoring similar problems.\n",
      "22/11/10 14:25:32 WARN LazyStruct: Extra bytes detected at the end of the row! Ignoring similar problems.\n",
      "22/11/10 14:25:32 WARN LazyStruct: Extra bytes detected at the end of the row! Ignoring similar problems.\n",
      "22/11/10 14:25:33 WARN LazyStruct: Extra bytes detected at the end of the row! Ignoring similar problems.\n",
      "22/11/10 14:25:33 WARN LazyStruct: Extra bytes detected at the end of the row! Ignoring similar problems.\n",
      "22/11/10 14:25:33 WARN LazyStruct: Extra bytes detected at the end of the row! Ignoring similar problems.\n",
      "22/11/10 14:25:33 WARN LazyStruct: Extra bytes detected at the end of the row! Ignoring similar problems.\n",
      "22/11/10 14:25:33 WARN LazyStruct: Extra bytes detected at the end of the row! Ignoring similar problems.\n"
     ]
    }
   ],
   "source": [
    "from pyspark.ml.classification import GBTClassifier\n",
    "gbt = GBTClassifier(featuresCol = 'features',labelCol = 'winner',maxIter=10)\n",
    "gbtModel = gbt.fit(train1)\n",
    "gbtpredictions = gbtModel.transform(test1)"
   ]
  },
  {
   "cell_type": "markdown",
   "id": "789f88fd",
   "metadata": {},
   "source": [
    "Random Forest Classifier : "
   ]
  },
  {
   "cell_type": "code",
   "execution_count": 18,
   "id": "54b5fc67",
   "metadata": {},
   "outputs": [],
   "source": [
    "(training_data, test_data) = transformed_data.randomSplit([0.8,0.2])\n",
    "rf = RandomForestClassifier(labelCol='winner', featuresCol='features',maxDepth=5)"
   ]
  },
  {
   "cell_type": "code",
   "execution_count": 19,
   "id": "bb2eef9c",
   "metadata": {},
   "outputs": [
    {
     "name": "stdout",
     "output_type": "stream",
     "text": [
      "22/11/10 14:25:42 WARN LazyStruct: Extra bytes detected at the end of the row! Ignoring similar problems.\n",
      "22/11/10 14:25:42 WARN LazyStruct: Extra bytes detected at the end of the row! Ignoring similar problems.\n",
      "22/11/10 14:25:42 WARN LazyStruct: Extra bytes detected at the end of the row! Ignoring similar problems.\n",
      "22/11/10 14:25:42 WARN LazyStruct: Extra bytes detected at the end of the row! Ignoring similar problems.\n",
      "22/11/10 14:25:42 WARN LazyStruct: Extra bytes detected at the end of the row! Ignoring similar problems.\n",
      "22/11/10 14:25:42 WARN LazyStruct: Extra bytes detected at the end of the row! Ignoring similar problems.\n",
      "22/11/10 14:25:42 WARN LazyStruct: Extra bytes detected at the end of the row! Ignoring similar problems.\n",
      "22/11/10 14:25:43 WARN LazyStruct: Extra bytes detected at the end of the row! Ignoring similar problems.\n",
      "22/11/10 14:25:43 WARN LazyStruct: Extra bytes detected at the end of the row! Ignoring similar problems.\n",
      "22/11/10 14:25:43 WARN LazyStruct: Extra bytes detected at the end of the row! Ignoring similar problems.\n",
      "22/11/10 14:25:43 WARN LazyStruct: Extra bytes detected at the end of the row! Ignoring similar problems.\n",
      "22/11/10 14:25:43 WARN LazyStruct: Extra bytes detected at the end of the row! Ignoring similar problems.\n",
      "22/11/10 14:25:43 WARN LazyStruct: Extra bytes detected at the end of the row! Ignoring similar problems.\n",
      "22/11/10 14:25:43 WARN LazyStruct: Extra bytes detected at the end of the row! Ignoring similar problems.\n",
      "22/11/10 14:25:43 WARN LazyStruct: Extra bytes detected at the end of the row! Ignoring similar problems.\n",
      "22/11/10 14:25:44 WARN LazyStruct: Extra bytes detected at the end of the row! Ignoring similar problems.\n",
      "22/11/10 14:25:44 WARN LazyStruct: Extra bytes detected at the end of the row! Ignoring similar problems.\n"
     ]
    },
    {
     "name": "stderr",
     "output_type": "stream",
     "text": [
      "\r",
      "[Stage 140:==========================================>              (3 + 1) / 4]\r",
      "\r",
      "                                                                                \r"
     ]
    }
   ],
   "source": [
    "model = rf.fit(training_data)"
   ]
  },
  {
   "cell_type": "code",
   "execution_count": 20,
   "id": "08c185cb",
   "metadata": {},
   "outputs": [],
   "source": [
    "rfcpredictions = model.transform(test_data)"
   ]
  },
  {
   "cell_type": "markdown",
   "id": "3974685d",
   "metadata": {},
   "source": [
    "# Accuracy "
   ]
  },
  {
   "cell_type": "markdown",
   "id": "dd253a52",
   "metadata": {},
   "source": [
    "Logistic Regression : "
   ]
  },
  {
   "cell_type": "code",
   "execution_count": 21,
   "id": "aff51ae6",
   "metadata": {},
   "outputs": [
    {
     "name": "stdout",
     "output_type": "stream",
     "text": [
      "22/11/10 14:25:46 WARN LazyStruct: Extra bytes detected at the end of the row! Ignoring similar problems.\n",
      "22/11/10 14:25:46 WARN LazyStruct: Extra bytes detected at the end of the row! Ignoring similar problems.\n",
      "22/11/10 14:25:46 WARN LazyStruct: Extra bytes detected at the end of the row! Ignoring similar problems.\n"
     ]
    },
    {
     "name": "stderr",
     "output_type": "stream",
     "text": [
      "\r",
      "[Stage 150:============================>                            (2 + 1) / 4]\r",
      "\r",
      "[Stage 150:==========================================>              (3 + 1) / 4]\r"
     ]
    },
    {
     "name": "stdout",
     "output_type": "stream",
     "text": [
      "22/11/10 14:25:47 WARN LazyStruct: Extra bytes detected at the end of the row! Ignoring similar problems.\n"
     ]
    },
    {
     "name": "stderr",
     "output_type": "stream",
     "text": [
      "\r",
      "                                                                                \r"
     ]
    },
    {
     "data": {
      "image/png": "[encoded data removed]",
      "text/plain": [
       "<Figure size 640x480 with 1 Axes>"
      ]
     },
     "metadata": {},
     "output_type": "display_data"
    },
    {
     "name": "stdout",
     "output_type": "stream",
     "text": [
      "Training set areaUnderROC: 0.6969817400492601\n"
     ]
    }
   ],
   "source": [
    "trainingSummary = lrModel.summary\n",
    "roc = trainingSummary.roc.toPandas()\n",
    "plt.plot(roc['FPR'],roc['TPR'])\n",
    "plt.ylabel('False Positive Rate')\n",
    "plt.xlabel('True Positive Rate')\n",
    "plt.title('ROC Curve')\n",
    "plt.show()\n",
    "print('Training set areaUnderROC: ' + str(trainingSummary.areaUnderROC))"
   ]
  },
  {
   "cell_type": "code",
   "execution_count": 22,
   "id": "fecdb4a1",
   "metadata": {},
   "outputs": [
    {
     "name": "stdout",
     "output_type": "stream",
     "text": [
      "Test Accuracy =  69.698174004926 %\n"
     ]
    }
   ],
   "source": [
    "lr_score = trainingSummary.areaUnderROC*100\n",
    "print('Test Accuracy = ',lr_score,\"%\")"
   ]
  },
  {
   "cell_type": "markdown",
   "id": "11245a3d",
   "metadata": {},
   "source": [
    "Gradient Boosted Tree :"
   ]
  },
  {
   "cell_type": "code",
   "execution_count": 23,
   "id": "d7d8a3c1",
   "metadata": {},
   "outputs": [],
   "source": [
    "#Plot the accuracy scores for both classifiers \n",
    "evaluator = MulticlassClassificationEvaluator(\n",
    "    labelCol='winner', \n",
    "    predictionCol='prediction', \n",
    "    metricName='accuracy')"
   ]
  },
  {
   "cell_type": "code",
   "execution_count": 24,
   "id": "c84698b7",
   "metadata": {},
   "outputs": [
    {
     "name": "stdout",
     "output_type": "stream",
     "text": [
      "22/11/10 14:25:48 WARN LazyStruct: Extra bytes detected at the end of the row! Ignoring similar problems.\n",
      "22/11/10 14:25:48 WARN LazyStruct: Extra bytes detected at the end of the row! Ignoring similar problems.\n",
      "22/11/10 14:25:48 WARN LazyStruct: Extra bytes detected at the end of the row! Ignoring similar problems.\n",
      "22/11/10 14:25:48 WARN LazyStruct: Extra bytes detected at the end of the row! Ignoring similar problems.\n",
      "Test Accuracy =  93.52703199705775 %\n"
     ]
    }
   ],
   "source": [
    "accuracy = evaluator.evaluate(gbtpredictions)\n",
    "gbt_score =  accuracy*100\n",
    "print('Test Accuracy = ',gbt_score,\"%\")"
   ]
  },
  {
   "cell_type": "markdown",
   "id": "7af3b3e2",
   "metadata": {},
   "source": [
    "Random Forest Classifier:"
   ]
  },
  {
   "cell_type": "code",
   "execution_count": 25,
   "id": "95104f0d",
   "metadata": {},
   "outputs": [
    {
     "name": "stdout",
     "output_type": "stream",
     "text": [
      "22/11/10 14:25:49 WARN LazyStruct: Extra bytes detected at the end of the row! Ignoring similar problems.\n",
      "22/11/10 14:25:49 WARN LazyStruct: Extra bytes detected at the end of the row! Ignoring similar problems.\n",
      "22/11/10 14:25:49 WARN LazyStruct: Extra bytes detected at the end of the row! Ignoring similar problems.\n",
      "22/11/10 14:25:49 WARN LazyStruct: Extra bytes detected at the end of the row! Ignoring similar problems.\n",
      "Test Accuracy =  93.75830013280213 %\n"
     ]
    }
   ],
   "source": [
    "accuracy = evaluator.evaluate(rfcpredictions)\n",
    "rfc_score =  accuracy*100\n",
    "print('Test Accuracy = ',rfc_score,\"%\")"
   ]
  },
  {
   "cell_type": "markdown",
   "id": "48215cdf",
   "metadata": {},
   "source": [
    "# Inference"
   ]
  },
  {
   "cell_type": "code",
   "execution_count": 26,
   "id": "8a1be81c",
   "metadata": {},
   "outputs": [
    {
     "data": {
      "image/png": "[encoded data removed]",
      "text/plain": [
       "<Figure size 640x480 with 1 Axes>"
      ]
     },
     "metadata": {},
     "output_type": "display_data"
    }
   ],
   "source": [
    "sns.set_theme(style='whitegrid')\n",
    "mean_test_scores = pd.DataFrame(data=[[lr_score,\n",
    "                                        gbt_score,rfc_score]],\n",
    "                                 columns=['Logistic Regression', 'Gradient Boosted Tree','Random Forest Classifier'])\n",
    "sns.barplot(data=mean_test_scores);"
   ]
  },
  {
   "cell_type": "code",
   "execution_count": null,
   "id": "4d079994",
   "metadata": {},
   "outputs": [],
   "source": []
  }
 ],
 "metadata": {
  "kernelspec": {
   "display_name": "Python 3 (ipykernel)",
   "language": "python",
   "name": "python3"
  },
  "language_info": {
   "codemirror_mode": {
    "name": "ipython",
    "version": 3
   },
   "file_extension": ".py",
   "mimetype": "text/x-python",
   "name": "python",
   "nbconvert_exporter": "python",
   "pygments_lexer": "ipython3",
   "version": "3.10.6"
  }
 },
 "nbformat": 4,
 "nbformat_minor": 5
}
